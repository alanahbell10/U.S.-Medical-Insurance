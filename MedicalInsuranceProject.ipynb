{
 "cells": [
  {
   "cell_type": "code",
   "execution_count": 98,
   "id": "61a2edc2-a4dc-4667-ae09-a9653f23cd6a",
   "metadata": {},
   "outputs": [],
   "source": [
    "medical_costs = {}"
   ]
  },
  {
   "cell_type": "code",
   "execution_count": 99,
   "id": "9740fa21-bd0a-4b32-8afd-0f03332c8f5e",
   "metadata": {},
   "outputs": [],
   "source": [
    "medical_costs[\"Marina\"] = 6607.0\n",
    "medical_costs[\"Vinay\"] = 3225.0"
   ]
  },
  {
   "cell_type": "code",
   "execution_count": 100,
   "id": "e080c743-f958-4bc9-8f7d-d8693c47695d",
   "metadata": {},
   "outputs": [],
   "source": [
    "medical_costs.update({\"Connie\": 8886.0, \"Isaac\": 16444.0, \"Valentina\": 6420.0})"
   ]
  },
  {
   "cell_type": "code",
   "execution_count": 101,
   "id": "e8bc5862-0f6d-489d-ba5f-f90ce040739b",
   "metadata": {},
   "outputs": [],
   "source": [
    "medical_costs[\"Vinay\"] = 3325.0"
   ]
  },
  {
   "cell_type": "code",
   "execution_count": 102,
   "id": "72535d11-0a6c-46b4-b647-e893a34a95c0",
   "metadata": {},
   "outputs": [
    {
     "name": "stdout",
     "output_type": "stream",
     "text": [
      "{'Marina': 6607.0, 'Vinay': 3325.0, 'Connie': 8886.0, 'Isaac': 16444.0, 'Valentina': 6420.0}\n"
     ]
    }
   ],
   "source": [
    "print(medical_costs)"
   ]
  },
  {
   "cell_type": "code",
   "execution_count": 103,
   "id": "4373b5f4-6a5b-41c9-91fc-6d9a3c621742",
   "metadata": {},
   "outputs": [
    {
     "name": "stdout",
     "output_type": "stream",
     "text": [
      "41682.0\n"
     ]
    }
   ],
   "source": [
    "total_cost = 0\n",
    "for i in medical_costs.values():\n",
    "    total_cost += i\n",
    "print(total_cost)"
   ]
  },
  {
   "cell_type": "code",
   "execution_count": 104,
   "id": "7ff1505b-d0df-4aef-af71-39d1faec820d",
   "metadata": {},
   "outputs": [
    {
     "name": "stdout",
     "output_type": "stream",
     "text": [
      "The average cost is: 8336.4\n"
     ]
    }
   ],
   "source": [
    "average_cost = total_cost / len(medical_costs)\n",
    "print(\"The average cost is: \" + str(average_cost))"
   ]
  },
  {
   "cell_type": "code",
   "execution_count": 105,
   "id": "acdd04fa-1b79-449c-9fd4-3e6963ccd4a6",
   "metadata": {},
   "outputs": [],
   "source": [
    "names = [\"Marina\", \"Vinay\", \"Connie\", \"Isaac\", \"Valentina\"]\n",
    "ages = [27, 24, 43, 35, 52]"
   ]
  },
  {
   "cell_type": "code",
   "execution_count": 106,
   "id": "d2d2f1b8-767c-4106-8ac3-2afb83db63f2",
   "metadata": {},
   "outputs": [],
   "source": [
    "zipped_ages = zip(names, ages)"
   ]
  },
  {
   "cell_type": "code",
   "execution_count": 107,
   "id": "d4797849-c7e8-4ad9-88b4-63f8e03718f7",
   "metadata": {},
   "outputs": [
    {
     "name": "stdout",
     "output_type": "stream",
     "text": [
      "{'Marina': 27, 'Vinay': 24, 'Connie': 43, 'Isaac': 35, 'Valentina': 52}\n"
     ]
    }
   ],
   "source": [
    "names_to_ages = {key: value for key, value in zipped_ages}\n",
    "print(names_to_ages)"
   ]
  },
  {
   "cell_type": "code",
   "execution_count": 108,
   "id": "98d40eb5-4de6-479c-a1a4-3790597b7a69",
   "metadata": {},
   "outputs": [
    {
     "name": "stdout",
     "output_type": "stream",
     "text": [
      "Marina's age is 27\n"
     ]
    }
   ],
   "source": [
    "print(\"Marina's age is \" + str(names_to_ages.get('Marina')))"
   ]
  },
  {
   "cell_type": "code",
   "execution_count": 109,
   "id": "12ecd013-85c8-4afa-b34e-c64bd542f7be",
   "metadata": {},
   "outputs": [],
   "source": [
    "medical_records = dict()"
   ]
  },
  {
   "cell_type": "code",
   "execution_count": 110,
   "id": "6ee5805a-05bc-4357-ae5d-a83bc272b9d7",
   "metadata": {},
   "outputs": [],
   "source": [
    "medical_records[\"Marina\"] = ({\"Age\": 27, \"Sex\": \"Female\", \"BMI\": 31.1, \"Children\": 2, \"Smoker\": \"Non-smoker\", \"Insurance_cost\": 36607.0})\n",
    "medical_records[\"Vinay\"] = ({\"Age\": 24, \"Sex\": \"Male\", \"BMI\": 26.9, \"Children\": 0, \"Smoker\": \"Non-smoker\", \"Insurance_cost\": 3225.0})\n",
    "medical_records[\"Connie\"] = ({\"Age\": 43, \"Sex\": \"Female\", \"BMI\": 24.3, \"Children\": 3, \"Smoker\": \"Non-smoker\", \"Insurance_cost\": 8886.0})\n",
    "medical_records[\"Isaac\"] = ({\"Age\": 35, \"Sex\": \"Male\", \"BMI\": 20.6, \"Children\": 4, \"Smoker\": \"Smoker\", \"Insurance_cost\": 16444.0})\n",
    "medical_records[\"Valentina\"] = ({\"Age\": 52, \"Sex\": \"Female\", \"BMI\": 18.7, \"Children\": 1, \"Smoker\": \"Non-smoker\", \"Insurance_cost\": 6420.0})"
   ]
  },
  {
   "cell_type": "code",
   "execution_count": 111,
   "id": "aedb4121-67e3-4815-bbed-546f7b6e3e47",
   "metadata": {},
   "outputs": [
    {
     "name": "stdout",
     "output_type": "stream",
     "text": [
      "{'Marina': {'Age': 27, 'Sex': 'Female', 'BMI': 31.1, 'Children': 2, 'Smoker': 'Non-smoker', 'Insurance_cost': 36607.0}, 'Vinay': {'Age': 24, 'Sex': 'Male', 'BMI': 26.9, 'Children': 0, 'Smoker': 'Non-smoker', 'Insurance_cost': 3225.0}, 'Connie': {'Age': 43, 'Sex': 'Female', 'BMI': 24.3, 'Children': 3, 'Smoker': 'Non-smoker', 'Insurance_cost': 8886.0}, 'Isaac': {'Age': 35, 'Sex': 'Male', 'BMI': 20.6, 'Children': 4, 'Smoker': 'Smoker', 'Insurance_cost': 16444.0}, 'Valentina': {'Age': 52, 'Sex': 'Female', 'BMI': 18.7, 'Children': 1, 'Smoker': 'Non-smoker', 'Insurance_cost': 6420.0}}\n"
     ]
    }
   ],
   "source": [
    "print(medical_records)"
   ]
  },
  {
   "cell_type": "code",
   "execution_count": 112,
   "id": "ea9a6889-aa62-409e-8def-f03aa40870f4",
   "metadata": {},
   "outputs": [
    {
     "name": "stdout",
     "output_type": "stream",
     "text": [
      "Marina's insurance cost is: $36607.0\n",
      "Vinay's insurance cost is: $3225.0\n",
      "Connie's insurance cost is: $8886.0\n",
      "Isaac's insurance cost is: $16444.0\n",
      "Valentina's insurance cost is: $6420.0\n"
     ]
    }
   ],
   "source": [
    "for i in medical_records:\n",
    "    print(i + \"'s insurance cost is: $\" + str(medical_records[i][\"Insurance_cost\"]))"
   ]
  },
  {
   "cell_type": "code",
   "execution_count": 113,
   "id": "0700f6c7-c7ea-4fbf-8efe-3c0b6e3c7d56",
   "metadata": {},
   "outputs": [
    {
     "name": "stdout",
     "output_type": "stream",
     "text": [
      "Marina's insurance cost is: $36607.0\n",
      "Their BMI is 31.1\n",
      "Connie's insurance cost is: $8886.0\n",
      "Their BMI is 24.3\n",
      "Isaac's insurance cost is: $16444.0\n",
      "Their BMI is 20.6\n",
      "Valentina's insurance cost is: $6420.0\n",
      "Their BMI is 18.7\n"
     ]
    }
   ],
   "source": [
    "medical_records.pop(\"Vinay\")\n"
   ]
  },
  {
   "cell_type": "code",
   "execution_count": 115,
   "id": "2b16ea11-9931-4be2-9436-533393e69932",
   "metadata": {},
   "outputs": [
    {
     "name": "stdout",
     "output_type": "stream",
     "text": [
      "Marina's insurance cost is: $36607.0\n",
      "Their BMI is 31.1, they have 2 children, and they are a Non-smoker.\n",
      "Connie's insurance cost is: $8886.0\n",
      "Their BMI is 24.3, they have 3 children, and they are a Non-smoker.\n",
      "Isaac's insurance cost is: $16444.0\n",
      "Their BMI is 20.6, they have 4 children, and they are a Smoker.\n",
      "Valentina's insurance cost is: $6420.0\n",
      "Their BMI is 18.7, they have 1 children, and they are a Non-smoker.\n"
     ]
    }
   ],
   "source": [
    "for i in medical_records:\n",
    "    print(i + \"'s insurance cost is: $\" + str(medical_records[i][\"Insurance_cost\"]))\n",
    "    print(\"Their BMI is \" + str(medical_records[i][\"BMI\"]) + \", they have \" + str(medical_records[i][\"Children\"]) + \" children, and they are a \" + str(medical_records[i][\"Smoker\"]) + \".\")"
   ]
  },
  {
   "cell_type": "code",
   "execution_count": null,
   "id": "4d83c37e-225b-44c0-9387-82c928444e1e",
   "metadata": {},
   "outputs": [],
   "source": []
  }
 ],
 "metadata": {
  "kernelspec": {
   "display_name": "Python 3 (ipykernel)",
   "language": "python",
   "name": "python3"
  },
  "language_info": {
   "codemirror_mode": {
    "name": "ipython",
    "version": 3
   },
   "file_extension": ".py",
   "mimetype": "text/x-python",
   "name": "python",
   "nbconvert_exporter": "python",
   "pygments_lexer": "ipython3",
   "version": "3.9.13"
  }
 },
 "nbformat": 4,
 "nbformat_minor": 5
}
